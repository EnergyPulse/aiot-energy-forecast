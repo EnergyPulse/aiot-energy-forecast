{
 "cells": [
  {
   "cell_type": "markdown",
   "id": "a5762d84",
   "metadata": {},
   "source": [
    "# AIoT Energy Forecasting Tutorial"
   ]
  },
  {
   "cell_type": "code",
   "execution_count": null,
   "id": "bc36609e",
   "metadata": {},
   "outputs": [],
   "source": [
    "import json\n",
    "with open('parameters.json') as f:\n",
    "    params = json.load(f)\n",
    "params"
   ]
  },
  {
   "cell_type": "code",
   "execution_count": null,
   "id": "91448de7",
   "metadata": {},
   "outputs": [],
   "source": [
    "# Bottom-Up Model\n",
    "N = params['device']['N_j0']\n",
    "P = params['device']['P_j']\n",
    "delta_t = params['device']['delta_t']\n",
    "E_hw = N * P * delta_t / 1e12\n",
    "print(f\"Bottom-Up Energy: {E_hw:.2f} TWh/year\")"
   ]
  },
  {
   "cell_type": "code",
   "execution_count": null,
   "id": "9e5a39c2",
   "metadata": {},
   "outputs": [],
   "source": [
    "# Top-Down Model\n",
    "import numpy as np\n",
    "N0 = params['workload']['N0']\n",
    "e0 = params['workload']['e0']\n",
    "rho = params['workload']['rho']\n",
    "rN = params['workload']['r_N']\n",
    "K = params['workload']['K']\n",
    "t0 = 0\n",
    "E_exp0 = N0 * e0 * np.exp((rN - rho) * t0) / 1e12\n",
    "A = (K / N0) - 1\n",
    "E_log0 = (K * e0 * np.exp(-rho * t0) / (1 + A * np.exp(-rN * t0))) / 1e12\n",
    "print(f\"Exponential Estimate: {E_exp0:.2f} TWh/year\")\n",
    "print(f\"Logistic Estimate: {E_log0:.2f} TWh/year\")"
   ]
  },
  {
   "cell_type": "code",
   "execution_count": null,
   "id": "ff21f293",
   "metadata": {},
   "outputs": [],
   "source": [
    "# Growth Forecast Plot\n",
    "import matplotlib.pyplot as plt\n",
    "E0 = params['growth']['E0']\n",
    "alpha = params['growth']['alpha']\n",
    "Emax = params['growth']['Emax']\n",
    "beta = params['growth']['beta']\n",
    "t = np.linspace(0, 10, 100)\n",
    "E_exp = E0 * np.exp((alpha - rho) * t)\n",
    "E_log = Emax / (1 + ((Emax / E0 - 1) * np.exp(-beta * t)))\n",
    "plt.figure(figsize=(8,5))\n",
    "plt.plot(2024 + t, E_exp, '--', label='Exponential')\n",
    "plt.plot(2024 + t, E_log, '-', label='Logistic')\n",
    "plt.title(\"AI Energy Forecasts\")\n",
    "plt.xlabel(\"Year\")\n",
    "plt.ylabel(\"Energy (TWh/year)\")\n",
    "plt.grid(True)\n",
    "plt.legend()\n",
    "plt.show()"
   ]
  },
  {
   "cell_type": "code",
   "execution_count": null,
   "id": "479e6b0d",
   "metadata": {},
   "outputs": [],
   "source": [
    "# Simple ABM\n",
    "num_devices = 1000\n",
    "timesteps = 50\n",
    "P_idle = 1\n",
    "P_peak = 10\n",
    "energy = []\n",
    "state = np.zeros(num_devices)\n",
    "for t in range(timesteps):\n",
    "    state = np.random.rand(num_devices) < 0.2\n",
    "    power = P_idle + (P_peak - P_idle) * state\n",
    "    energy.append(np.sum(power) / 1e3)\n",
    "plt.figure(figsize=(8,5))\n",
    "plt.plot(range(timesteps), energy)\n",
    "plt.title(\"ABM Energy Evolution\")\n",
    "plt.xlabel(\"Hour\")\n",
    "plt.ylabel(\"Energy (MWh)\")\n",
    "plt.grid(True)\n",
    "plt.show()"
   ]
  },
  {
   "cell_type": "code",
   "execution_count": null,
   "id": "21a6f4b4",
   "metadata": {},
   "outputs": [],
   "source": [
    "# Interactive Forecasting\n",
    "import ipywidgets as widgets\n",
    "from IPython.display import display\n",
    "\n",
    "def plot_energy(alpha, beta, rho):\n",
    "    t = np.linspace(0, 10, 100)\n",
    "    E0 = 450\n",
    "    Emax = 1500\n",
    "    E_exp = E0 * np.exp((alpha - rho) * t)\n",
    "    E_log = Emax / (1 + ((Emax / E0 - 1) * np.exp(-beta * t)))\n",
    "    plt.figure(figsize=(8,5))\n",
    "    plt.plot(2024 + t, E_exp, '--', label='Exponential')\n",
    "    plt.plot(2024 + t, E_log, '-', label='Logistic')\n",
    "    plt.title(\"Interactive Forecast\")\n",
    "    plt.xlabel(\"Year\")\n",
    "    plt.ylabel(\"Energy (TWh/year)\")\n",
    "    plt.legend()\n",
    "    plt.grid(True)\n",
    "    plt.show()\n",
    "\n",
    "widgets.interact(plot_energy,\n",
    "    alpha=widgets.FloatSlider(value=0.15, min=0.05, max=0.3, step=0.01),\n",
    "    beta=widgets.FloatSlider(value=0.45, min=0.1, max=1.0, step=0.05),\n",
    "    rho=widgets.FloatSlider(value=0.30, min=0.1, max=0.5, step=0.01))"
   ]
  },
  {
   "cell_type": "code",
   "execution_count": null,
   "id": "e652358e",
   "metadata": {},
   "outputs": [],
   "source": [
    "# Export forecast to CSV\n",
    "import pandas as pd\n",
    "t = np.linspace(0, 10, 100)\n",
    "years = 2024 + t\n",
    "E_exp = E0 * np.exp((alpha - rho) * t)\n",
    "E_log = Emax / (1 + ((Emax / E0 - 1) * np.exp(-beta * t)))\n",
    "df = pd.DataFrame({'Year': years, 'Exponential_Forecast': E_exp, 'Logistic_Forecast': E_log})\n",
    "df.to_csv('forecast_output.csv', index=False)\n",
    "df.head()"
   ]
  }
 ],
 "metadata": {},
 "nbformat": 4,
 "nbformat_minor": 5
}
