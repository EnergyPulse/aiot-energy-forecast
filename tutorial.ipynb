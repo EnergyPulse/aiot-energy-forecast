{
 "cells": [
  {
   "cell_type": "markdown",
   "id": "58d9e175",
   "metadata": {},
   "source": [
    "# AIoT Energy Forecasting Tutorial\n",
    "This notebook demonstrates how to use the forecasting toolkit."
   ]
  },
  {
   "cell_type": "code",
   "execution_count": null,
   "id": "c4a3521c",
   "metadata": {},
   "outputs": [],
   "source": [
    "import json\n",
    "with open('parameters.json') as f:\n",
    "    params = json.load(f)\n",
    "params"
   ]
  }
 ],
 "metadata": {},
 "nbformat": 4,
 "nbformat_minor": 5
}
